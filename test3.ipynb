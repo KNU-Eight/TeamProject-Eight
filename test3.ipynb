{
 "cells": [
  {
   "cell_type": "code",
   "execution_count": 63,
   "id": "55f64e99",
   "metadata": {},
   "outputs": [],
   "source": [
    "import tiktoken\n",
    "\n",
    "tokenizer = tiktoken.encoding_for_model(\"text-embedding-3-small\")"
   ]
  },
  {
   "cell_type": "code",
   "execution_count": 64,
   "id": "7ea60c50",
   "metadata": {},
   "outputs": [
    {
     "name": "stdout",
     "output_type": "stream",
     "text": [
      "http://www.law.go.kr/DRF/lawSearch.do?OC=tery95&target=law&query=주택임대차보호법&type=JSON\n",
      "001248\n"
     ]
    }
   ],
   "source": [
    "import requests\n",
    "\n",
    "OC = \"tery95\"\n",
    "query = \"주택임대차보호법\"\n",
    "\n",
    "base_url = (\n",
    "    f\"http://www.law.go.kr/DRF/lawSearch.do?OC={OC}\"\n",
    "    \"&target=law\"\n",
    "    f\"&query={query}\"\n",
    "    \"&type=JSON\" \n",
    ")\n",
    "\n",
    "res = requests.get(base_url)\n",
    "\n",
    "print(base_url)\n",
    "print(res.json()[\"LawSearch\"][\"law\"][0][\"법령ID\"])\n",
    "#print(res.text)"
   ]
  },
  {
   "cell_type": "code",
   "execution_count": null,
   "id": "8716168a",
   "metadata": {},
   "outputs": [
    {
     "name": "stdout",
     "output_type": "stream",
     "text": [
      "http://www.law.go.kr/DRF/lawService.do?OC=tery95&target=law&ID=001248&type=JSON\n",
      "{'항번호': '②', '항내용': '  ② 제3조제1항ㆍ제2항 또는 제3항의 대항요건(對抗要件)과 임대차계약증서(제3조제2항 및 제3항의 경우에는 법인과 임대인 사이의 임대차계약증서를 말한다)상의 확정일자(確定日字)를 갖춘 임차인은 「민사집행법」에 따른 경매 또는 「국세징수법」에 따른 공매(公賣)를 할 때에 임차주택(대지를 포함한다)의 환가대금(換價代金)에서 후순위권리자(後順位權利者)나 그 밖의 채권자보다 우선하여 보증금을 변제(辨濟)받을 권리가 있다. <개정 2013.8.13>'}\n"
     ]
    }
   ],
   "source": [
    "import requests\n",
    "\n",
    "OC = \"tery95\"\n",
    "ID = \"001248\"\n",
    "\n",
    "base_url = (\n",
    "    f\"http://www.law.go.kr/DRF/lawService.do?OC={OC}\"\n",
    "    \"&target=law\"\n",
    "    f\"&ID={ID}\"\n",
    "    \"&type=JSON\" \n",
    ")\n",
    "\n",
    "res = requests.get(base_url)\n",
    "\n",
    "print(base_url)\n"
   ]
  },
  {
   "cell_type": "code",
   "execution_count": 183,
   "id": "8c4ce665",
   "metadata": {},
   "outputs": [
    {
     "name": "stdout",
     "output_type": "stream",
     "text": [
      "항번호: ① 항내용:  ① 임대차는 그 등기(登記)가 없는 경우에도 임차인(賃借人)이 주택의 인도(引渡)와 주민등록을 마친 때에는 그 다음 날부터 제삼자에 대하여 효력이 생긴다. 이 경우 전입신고를 한 때에 주민등록이 된 것으로 본다. \n",
      "항번호: ② 항내용:   ② 주택도시기금을 재원으로 하여 저소득층 무주택자에게 주거생활 안정을 목적으로 전세임대주택을 지원하는 법인이 주택을 임차한 후 지방자치단체의 장 또는 그 법인이 선정한 입주자가 그 주택을 인도받고 주민등록을 마쳤을 때에는 제1항을 준용한다. 이 경우 대항력이 인정되는 법인은 대통령령으로 정한다. <개정 2015.1.6> \n",
      "항번호: ③ 항내용:   ③ 「중소기업기본법」 제2조에 따른 중소기업에 해당하는 법인이 소속 직원의 주거용으로 주택을 임차한 후 그 법인이 선정한 직원이 해당 주택을 인도받고 주민등록을 마쳤을 때에는 제1항을 준용한다. 임대차가 끝나기 전에 그 직원이 변경된 경우에는 그 법인이 선정한 새로운 직원이 주택을 인도받고 주민등록을 마친 다음 날부터 제삼자에 대하여 효력이 생긴다. <신설 2013.8.13> \n",
      "항번호: ④ 항내용:   ④ 임차주택의 양수인(讓受人)(그 밖에 임대할 권리를 승계한 자를 포함한다)은 임대인(賃貸人)의 지위를 승계한 것으로 본다. <개정 2013.8.13> \n",
      "항번호: ⑤ 항내용:   ⑤ 이 법에 따라 임대차의 목적이 된 주택이 매매나 경매의 목적물이 된 경우에는 「민법」 제575조제1항ㆍ제3항 및 같은 법 제578조를 준용한다. <개정 2013.8.13> \n",
      "항번호: ⑥ 항내용:   ⑥ 제5항의 경우에는 동시이행의 항변권(抗辯權)에 관한 「민법」 제536조를 준용한다. <개정 2013.8.13> \n",
      "\n"
     ]
    }
   ],
   "source": [
    "#print(res.json())\n",
    "data = res.json()[\"법령\"][\"조문\"][\"조문단위\"]\n",
    "#print(data[\"조문단위\"][8][\"항\"])\n",
    "#print(data[\"조문단위\"][8][\"항\"][\"호\"][0][\"호내용\"])\n",
    "#print(data[\"조문단위\"][8][\"항\"][\"호\"][1])\n",
    "#print(data[\"조문단위\"][3][\"항\"][1])\n",
    "\n",
    "test_string = \"\"\n",
    "for i in data[2][\"항\"]:\n",
    "    for key, value in i.items():\n",
    "        test_string += f\"{key}: {value} \"\n",
    "    test_string += \"\\n\"    \n",
    "print(test_string)"
   ]
  },
  {
   "cell_type": "code",
   "execution_count": 71,
   "id": "c70e2d92",
   "metadata": {},
   "outputs": [],
   "source": [
    "from typing import Dict, Any\n",
    "\n",
    "def build_document_format(input_datum: Dict[str, Any]) -> str:\n",
    "    result_string = f\"제목: {input_datum['title']}\\n\\n\"\n",
    "    \n",
    "    \n",
    "    result_string += \"### 기본정보\\n\"\n",
    "    for key, value in input_datum[\"meta_info\"].items():\n",
    "        result_string += f\"{key}: {value}\\n\"\n",
    "        \n",
    "    result_string += \"\\n### 상세정보\\n\"\n",
    "    for key, value in input_datum[\"detail_info\"].items():\n",
    "        result_string += f\"{key}: {value}\\n\"\n",
    "        \n",
    "    return result_string.strip()\n"
   ]
  },
  {
   "cell_type": "code",
   "execution_count": 263,
   "id": "c67a9d36",
   "metadata": {},
   "outputs": [],
   "source": [
    "from typing import Dict, Any\n",
    "\n",
    "def build_document_format(input_datum: Dict[str, Any]) -> str:\n",
    "    result_string = f\"조문번호: {input_datum['조문번호']}\\n\"\n",
    "\n",
    "    result_string += f\"조문제목: {input_datum['조문제목']}\\n\"\n",
    "\n",
    "    result_string += f\"조문내용: {input_datum['조문내용']}\\n\"\n",
    "                \n",
    "    if \"항\" in input_datum:\n",
    "        result_string += \"항내용\\n\"            \n",
    "        for i in input_datum[\"항\"]:\n",
    "            result_string += i[\"항내용\"]+\"\\n\"          \n",
    "    \n",
    "                  \n",
    "                \n",
    "      \n",
    "    return result_string.strip()\n",
    " "
   ]
  },
  {
   "cell_type": "code",
   "execution_count": 266,
   "id": "60b8b98d",
   "metadata": {},
   "outputs": [
    {
     "name": "stdout",
     "output_type": "stream",
     "text": [
      "조문번호: 3\n",
      "조문제목: 대항력 등\n",
      "조문내용: 제3조(대항력 등)\n",
      "항내용\n",
      " ① 임대차는 그 등기(登記)가 없는 경우에도 임차인(賃借人)이 주택의 인도(引渡)와 주민등록을 마친 때에는 그 다음 날부터 제삼자에 대하여 효력이 생긴다. 이 경우 전입신고를 한 때에 주민등록이 된 것으로 본다.\n",
      "  ② 주택도시기금을 재원으로 하여 저소득층 무주택자에게 주거생활 안정을 목적으로 전세임대주택을 지원하는 법인이 주택을 임차한 후 지방자치단체의 장 또는 그 법인이 선정한 입주자가 그 주택을 인도받고 주민등록을 마쳤을 때에는 제1항을 준용한다. 이 경우 대항력이 인정되는 법인은 대통령령으로 정한다. <개정 2015.1.6>\n",
      "  ③ 「중소기업기본법」 제2조에 따른 중소기업에 해당하는 법인이 소속 직원의 주거용으로 주택을 임차한 후 그 법인이 선정한 직원이 해당 주택을 인도받고 주민등록을 마쳤을 때에는 제1항을 준용한다. 임대차가 끝나기 전에 그 직원이 변경된 경우에는 그 법인이 선정한 새로운 직원이 주택을 인도받고 주민등록을 마친 다음 날부터 제삼자에 대하여 효력이 생긴다. <신설 2013.8.13>\n",
      "  ④ 임차주택의 양수인(讓受人)(그 밖에 임대할 권리를 승계한 자를 포함한다)은 임대인(賃貸人)의 지위를 승계한 것으로 본다. <개정 2013.8.13>\n",
      "  ⑤ 이 법에 따라 임대차의 목적이 된 주택이 매매나 경매의 목적물이 된 경우에는 「민법」 제575조제1항ㆍ제3항 및 같은 법 제578조를 준용한다. <개정 2013.8.13>\n",
      "  ⑥ 제5항의 경우에는 동시이행의 항변권(抗辯權)에 관한 「민법」 제536조를 준용한다. <개정 2013.8.13>\n"
     ]
    }
   ],
   "source": [
    "#print(data[2][\"항\"])\n",
    "#print(type(data[2][\"항\"]))\n",
    "print(build_document_format(data[2]))\n",
    "#print(data[2][\"항\"][0][\"항내용\"])\n",
    "#print(build_document_format(data[\"조문단위\"][2]))\n",
    "#print(build_document_format(data[\"조문단위\"][3])) "
   ]
  }
 ],
 "metadata": {
  "kernelspec": {
   "display_name": "base",
   "language": "python",
   "name": "python3"
  },
  "language_info": {
   "codemirror_mode": {
    "name": "ipython",
    "version": 3
   },
   "file_extension": ".py",
   "mimetype": "text/x-python",
   "name": "python",
   "nbconvert_exporter": "python",
   "pygments_lexer": "ipython3",
   "version": "3.8.8"
  }
 },
 "nbformat": 4,
 "nbformat_minor": 5
}
