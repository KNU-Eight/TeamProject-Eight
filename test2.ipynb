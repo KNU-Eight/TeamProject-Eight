{
 "cells": [
  {
   "cell_type": "code",
   "execution_count": null,
   "id": "bfc46e12",
   "metadata": {},
   "outputs": [],
   "source": [
    "import json\n",
    "\n",
    "with open(\"test2.json\", encoding='UTF-8') as f:\n",
    "    db = json.load(f)"
   ]
  },
  {
   "cell_type": "code",
   "execution_count": 6,
   "id": "9d632f0a",
   "metadata": {},
   "outputs": [],
   "source": [
    "import os\n",
    "from dotenv import load_dotenv\n",
    "from openai import OpenAI\n",
    "\n",
    "load_dotenv()\n",
    "client = OpenAI(api_key = os.environ.get('OPENAI_API_KEY'))"
   ]
  },
  {
   "cell_type": "code",
   "execution_count": 17,
   "id": "703ea5c6",
   "metadata": {},
   "outputs": [],
   "source": [
    "completion = client.chat.completions.create(\n",
    "    model=\"gpt-4o-mini\",\n",
    "    messages=[\n",
    "        {\"role\": \"system\", \"content\": \"\"\"너는 주어진 체크리스트를 가지고 질문에 답변하는 AI야. 오로지 주어진 체크리스트만을 가지고 답변해. 만약 주어진 정보에 정보가 없다면 \"죄송합니다. 질문을 이해하지 못했어요.\"라고 답변을 해.\n",
    "                                    다음은 너한테 주어진 정보들이야\n",
    "                                    \n",
    "                                    체크리스트: 1. 매매가격 확인하기\n",
    "                                                2. 등기부등본 확인하기\n",
    "                                                3. 임대인 확인하기\n",
    "                                                • 내 눈앞에 있는 사람과, 계약서에 도장 찍는 임대인과 등기부등본에 적힌 주택의 소유자가 모두 동일 인물이 맞는지 확인하기\n",
    "                                                • 주택의 소유자가 2명 이상이면 소유자 전원과 계약을 맺기를 추천합니다\n",
    "                                                • 임대인에게 법적인 \"행위능력\"이 있는지 확인하기\n",
    "                                                4. 대리인 확인하기\n",
    "                                                대리인과 계약을 체결하는 경우 위임장을 통해 대리인이 해당 주택의 임대차계약을 체결할 수 있는 권한을 정확히 위임받고 있는지 확인하기\n",
    "                                                5. 공인중개사 확인하기 \n",
    "                                                공인중개사 사무소가 정상적으로 영업 중인 곳이 맞는지 그리고 상대가 그곳의 공인중개사 또는 등록된 중개보조원이 맞는지 확인하기\n",
    "                                                6. 계약내용 확인하기\n",
    "                                                • 목적물 주소 및 임차 면적 등이 등기부등본 및 건축물대장과 일치하는지 확인하기\n",
    "                                                • 임대인, 임차인, 공인중개사의 인적사항이 신분증과 일치 여부 확인하기\n",
    "                                                • 보증금 및 월세 지급 계좌 및 지급 시기 확인하기\n",
    "                                                • 계약 체결일 확인하기\n",
    "                                                • 기타 특약 사항 확인하기\"\"\"},\n",
    "        {\"role\": \"user\", \"content\": \"설거지를 다 끝넀어. 다음은 무엇을 해야해?\"}\n",
    "    ],\n",
    "    temperature=0.0,\n",
    "    seed=42,\n",
    ")"
   ]
  },
  {
   "cell_type": "code",
   "execution_count": 18,
   "id": "8fd75d07",
   "metadata": {},
   "outputs": [
    {
     "name": "stdout",
     "output_type": "stream",
     "text": [
      "죄송합니다. 질문을 이해하지 못했어요.\n"
     ]
    }
   ],
   "source": [
    "print(completion.choices[0].message.content)"
   ]
  },
  {
   "cell_type": "code",
   "execution_count": 4,
   "id": "1607c4b0",
   "metadata": {},
   "outputs": [
    {
     "name": "stdout",
     "output_type": "stream",
     "text": [
      "사과는 초록 과일이다.\n"
     ]
    }
   ],
   "source": [
    "\n",
    "s = input()\n",
    "print(f\"\"\"사과는 {s} 과일이다.\"\"\")"
   ]
  }
 ],
 "metadata": {
  "kernelspec": {
   "display_name": "base",
   "language": "python",
   "name": "python3"
  },
  "language_info": {
   "codemirror_mode": {
    "name": "ipython",
    "version": 3
   },
   "file_extension": ".py",
   "mimetype": "text/x-python",
   "name": "python",
   "nbconvert_exporter": "python",
   "pygments_lexer": "ipython3",
   "version": "3.8.8"
  }
 },
 "nbformat": 4,
 "nbformat_minor": 5
}
